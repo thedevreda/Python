{
 "cells": [
  {
   "cell_type": "code",
   "execution_count": 1,
   "metadata": {},
   "outputs": [],
   "source": [
    "import pandas as pd\n",
    "from datasets import load_dataset\n",
    "from matplotlib import pyplot as plt\n",
    "\n",
    "# Loading Dataset\n",
    "datasets = load_dataset(\"lukebarousse/data_jobs\")\n",
    "df = datasets['train'].to_pandas()\n",
    "\n",
    "# Cleaning Datasets\n",
    "df['job_posted_date'] = pd.to_datetime(df['job_posted_date'])"
   ]
  },
  {
   "cell_type": "markdown",
   "metadata": {},
   "source": [
    "## Sample()"
   ]
  },
  {
   "cell_type": "code",
   "execution_count": 6,
   "metadata": {},
   "outputs": [
    {
     "data": {
      "text/html": [
       "<div>\n",
       "<style scoped>\n",
       "    .dataframe tbody tr th:only-of-type {\n",
       "        vertical-align: middle;\n",
       "    }\n",
       "\n",
       "    .dataframe tbody tr th {\n",
       "        vertical-align: top;\n",
       "    }\n",
       "\n",
       "    .dataframe thead th {\n",
       "        text-align: right;\n",
       "    }\n",
       "</style>\n",
       "<table border=\"1\" class=\"dataframe\">\n",
       "  <thead>\n",
       "    <tr style=\"text-align: right;\">\n",
       "      <th></th>\n",
       "      <th>job_title_short</th>\n",
       "      <th>job_title</th>\n",
       "      <th>job_location</th>\n",
       "      <th>job_via</th>\n",
       "      <th>job_schedule_type</th>\n",
       "      <th>job_work_from_home</th>\n",
       "      <th>search_location</th>\n",
       "      <th>job_posted_date</th>\n",
       "      <th>job_no_degree_mention</th>\n",
       "      <th>job_health_insurance</th>\n",
       "      <th>job_country</th>\n",
       "      <th>salary_rate</th>\n",
       "      <th>salary_year_avg</th>\n",
       "      <th>salary_hour_avg</th>\n",
       "      <th>company_name</th>\n",
       "      <th>job_skills</th>\n",
       "      <th>job_type_skills</th>\n",
       "    </tr>\n",
       "  </thead>\n",
       "  <tbody>\n",
       "    <tr>\n",
       "      <th>502901</th>\n",
       "      <td>Senior Data Engineer</td>\n",
       "      <td>Senior Data Engineer</td>\n",
       "      <td>St Paul, MN</td>\n",
       "      <td>via BeBee</td>\n",
       "      <td>Full-time</td>\n",
       "      <td>False</td>\n",
       "      <td>Florida, United States</td>\n",
       "      <td>2023-12-17 11:09:06</td>\n",
       "      <td>False</td>\n",
       "      <td>False</td>\n",
       "      <td>United States</td>\n",
       "      <td>None</td>\n",
       "      <td>NaN</td>\n",
       "      <td>NaN</td>\n",
       "      <td>ManpowerGroup</td>\n",
       "      <td>['sql', 'azure', 'git']</td>\n",
       "      <td>{'cloud': ['azure'], 'other': ['git'], 'progra...</td>\n",
       "    </tr>\n",
       "    <tr>\n",
       "      <th>406337</th>\n",
       "      <td>Senior Data Scientist</td>\n",
       "      <td>Senior Analytics Engineer</td>\n",
       "      <td>London, UK</td>\n",
       "      <td>via LinkedIn</td>\n",
       "      <td>Full-time</td>\n",
       "      <td>False</td>\n",
       "      <td>United Kingdom</td>\n",
       "      <td>2023-10-06 16:09:56</td>\n",
       "      <td>False</td>\n",
       "      <td>False</td>\n",
       "      <td>United Kingdom</td>\n",
       "      <td>None</td>\n",
       "      <td>NaN</td>\n",
       "      <td>NaN</td>\n",
       "      <td>Harnham</td>\n",
       "      <td>['sql', 'python', 'bigquery', 'snowflake', 'lo...</td>\n",
       "      <td>{'analyst_tools': ['looker'], 'cloud': ['bigqu...</td>\n",
       "    </tr>\n",
       "    <tr>\n",
       "      <th>659951</th>\n",
       "      <td>Data Engineer</td>\n",
       "      <td>Data Engineer</td>\n",
       "      <td>Newcastle upon Tyne, UK</td>\n",
       "      <td>via Indeed</td>\n",
       "      <td>Full-time</td>\n",
       "      <td>False</td>\n",
       "      <td>United Kingdom</td>\n",
       "      <td>2023-09-06 10:11:25</td>\n",
       "      <td>True</td>\n",
       "      <td>False</td>\n",
       "      <td>United Kingdom</td>\n",
       "      <td>None</td>\n",
       "      <td>NaN</td>\n",
       "      <td>NaN</td>\n",
       "      <td>Morgan King</td>\n",
       "      <td>None</td>\n",
       "      <td>None</td>\n",
       "    </tr>\n",
       "  </tbody>\n",
       "</table>\n",
       "</div>"
      ],
      "text/plain": [
       "              job_title_short                  job_title  \\\n",
       "502901   Senior Data Engineer       Senior Data Engineer   \n",
       "406337  Senior Data Scientist  Senior Analytics Engineer   \n",
       "659951          Data Engineer              Data Engineer   \n",
       "\n",
       "                   job_location       job_via job_schedule_type  \\\n",
       "502901              St Paul, MN     via BeBee         Full-time   \n",
       "406337               London, UK  via LinkedIn         Full-time   \n",
       "659951  Newcastle upon Tyne, UK    via Indeed         Full-time   \n",
       "\n",
       "        job_work_from_home         search_location     job_posted_date  \\\n",
       "502901               False  Florida, United States 2023-12-17 11:09:06   \n",
       "406337               False          United Kingdom 2023-10-06 16:09:56   \n",
       "659951               False          United Kingdom 2023-09-06 10:11:25   \n",
       "\n",
       "        job_no_degree_mention  job_health_insurance     job_country  \\\n",
       "502901                  False                 False   United States   \n",
       "406337                  False                 False  United Kingdom   \n",
       "659951                   True                 False  United Kingdom   \n",
       "\n",
       "       salary_rate  salary_year_avg  salary_hour_avg   company_name  \\\n",
       "502901        None              NaN              NaN  ManpowerGroup   \n",
       "406337        None              NaN              NaN        Harnham   \n",
       "659951        None              NaN              NaN    Morgan King   \n",
       "\n",
       "                                               job_skills  \\\n",
       "502901                            ['sql', 'azure', 'git']   \n",
       "406337  ['sql', 'python', 'bigquery', 'snowflake', 'lo...   \n",
       "659951                                               None   \n",
       "\n",
       "                                          job_type_skills  \n",
       "502901  {'cloud': ['azure'], 'other': ['git'], 'progra...  \n",
       "406337  {'analyst_tools': ['looker'], 'cloud': ['bigqu...  \n",
       "659951                                               None  "
      ]
     },
     "execution_count": 6,
     "metadata": {},
     "output_type": "execute_result"
    }
   ],
   "source": [
    "# sample function is function that give you a random rows after you update\n",
    "# also you can fix that number of rows and you can update normaly by using random_state = 42\n",
    "\n",
    "df.sample(3, random_state = 42)"
   ]
  },
  {
   "cell_type": "markdown",
   "metadata": {},
   "source": [
    "## copy()"
   ]
  },
  {
   "cell_type": "code",
   "execution_count": 9,
   "metadata": {},
   "outputs": [
    {
     "name": "stdout",
     "output_type": "stream",
     "text": [
      "Raw Dataset id  2715495675664\n",
      "New Dataset id  2715574274192\n"
     ]
    }
   ],
   "source": [
    "# is a great function that will save your life\n",
    "# you cna use it to copy the raw dataset and create new one to edit on it and save data on it\n",
    "\n",
    "df_edited = df.copy()\n",
    "\n",
    "print('Raw Dataset id ', id(df))\n",
    "print('New Dataset id ', id(df_edited))\n"
   ]
  }
 ],
 "metadata": {
  "kernelspec": {
   "display_name": "learning_python",
   "language": "python",
   "name": "python3"
  },
  "language_info": {
   "codemirror_mode": {
    "name": "ipython",
    "version": 3
   },
   "file_extension": ".py",
   "mimetype": "text/x-python",
   "name": "python",
   "nbconvert_exporter": "python",
   "pygments_lexer": "ipython3",
   "version": "3.11.11"
  }
 },
 "nbformat": 4,
 "nbformat_minor": 2
}
