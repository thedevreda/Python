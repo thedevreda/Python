{
 "cells": [
  {
   "cell_type": "code",
   "execution_count": null,
   "metadata": {},
   "outputs": [
    {
     "name": "stderr",
     "output_type": "stream",
     "text": [
      "c:\\ProgramData\\anaconda3\\envs\\learning_python\\Lib\\site-packages\\tqdm\\auto.py:21: TqdmWarning: IProgress not found. Please update jupyter and ipywidgets. See https://ipywidgets.readthedocs.io/en/stable/user_install.html\n",
      "  from .autonotebook import tqdm as notebook_tqdm\n"
     ]
    }
   ],
   "source": [
    "import pandas as pd\n",
    "from datasets import load_dataset\n",
    "\n",
    "# Loading Dataset\n",
    "datasets = load_dataset(\"lukebarousse/data_jobs\")\n",
    "df = datasets['train'].to_pandas()\n",
    "\n",
    "# Cleaning Datasets\n",
    "pd.to_datetime(df['job_posted_date'])\n",
    "\n",
    "#Updating the dataset\n",
    "df['job_posted_date'] = pd.to_datetime(df['job_posted_date'])"
   ]
  },
  {
   "cell_type": "code",
   "execution_count": 3,
   "metadata": {},
   "outputs": [
    {
     "data": {
      "text/plain": [
       "job_country\n",
       "United States     206292\n",
       "India              51088\n",
       "United Kingdom     40375\n",
       "France             39922\n",
       "Germany            27694\n",
       "Spain              25100\n",
       "Singapore          23696\n",
       "Sudan              21781\n",
       "Netherlands        20631\n",
       "Italy              17013\n",
       "Canada             16029\n",
       "Mexico             15139\n",
       "Poland             14793\n",
       "Portugal           14508\n",
       "Australia          12955\n",
       "South Africa       12414\n",
       "Belgium            12078\n",
       "Philippines        11786\n",
       "Ireland            11162\n",
       "Switzerland         9924\n",
       "Name: count, dtype: int64"
      ]
     },
     "execution_count": 3,
     "metadata": {},
     "output_type": "execute_result"
    }
   ],
   "source": [
    "df['job_country'].value_counts().head(20)"
   ]
  },
  {
   "cell_type": "markdown",
   "metadata": {},
   "source": [
    "## Check if a country in the list:"
   ]
  },
  {
   "cell_type": "code",
   "execution_count": null,
   "metadata": {},
   "outputs": [
    {
     "data": {
      "text/plain": [
       "True"
      ]
     },
     "execution_count": 4,
     "metadata": {},
     "output_type": "execute_result"
    }
   ],
   "source": [
    "df['job_country'].isin(['Brazil']).any() \n",
    "#Isin function to check if the country is in the dataset and any function to check if it is present"
   ]
  },
  {
   "cell_type": "markdown",
   "metadata": {},
   "source": [
    "## Create new dataframe:"
   ]
  },
  {
   "cell_type": "code",
   "execution_count": 15,
   "metadata": {},
   "outputs": [],
   "source": [
    "# choosing only the usa datasets\n",
    "us_jobs = df[df['job_country'] == 'United States']"
   ]
  },
  {
   "cell_type": "code",
   "execution_count": null,
   "metadata": {},
   "outputs": [],
   "source": [
    "# Removing nonvalues for salary_year_avg\n",
    "# Updating the dataframe \n",
    "\n",
    "us_jobs = us_jobs[us_jobs['salary_year_avg'].notna()]\n"
   ]
  },
  {
   "cell_type": "code",
   "execution_count": 26,
   "metadata": {},
   "outputs": [
    {
     "data": {
      "text/html": [
       "<div>\n",
       "<style scoped>\n",
       "    .dataframe tbody tr th:only-of-type {\n",
       "        vertical-align: middle;\n",
       "    }\n",
       "\n",
       "    .dataframe tbody tr th {\n",
       "        vertical-align: top;\n",
       "    }\n",
       "\n",
       "    .dataframe thead th {\n",
       "        text-align: right;\n",
       "    }\n",
       "</style>\n",
       "<table border=\"1\" class=\"dataframe\">\n",
       "  <thead>\n",
       "    <tr style=\"text-align: right;\">\n",
       "      <th></th>\n",
       "      <th>min</th>\n",
       "      <th>max</th>\n",
       "      <th>median</th>\n",
       "      <th>count</th>\n",
       "    </tr>\n",
       "    <tr>\n",
       "      <th>job_title_short</th>\n",
       "      <th></th>\n",
       "      <th></th>\n",
       "      <th></th>\n",
       "      <th></th>\n",
       "    </tr>\n",
       "  </thead>\n",
       "  <tbody>\n",
       "    <tr>\n",
       "      <th>Senior Data Scientist</th>\n",
       "      <td>55000.0</td>\n",
       "      <td>475000.0</td>\n",
       "      <td>155000.0</td>\n",
       "      <td>1241</td>\n",
       "    </tr>\n",
       "    <tr>\n",
       "      <th>Machine Learning Engineer</th>\n",
       "      <td>44408.5</td>\n",
       "      <td>315000.0</td>\n",
       "      <td>150000.0</td>\n",
       "      <td>128</td>\n",
       "    </tr>\n",
       "    <tr>\n",
       "      <th>Senior Data Engineer</th>\n",
       "      <td>45000.0</td>\n",
       "      <td>375000.0</td>\n",
       "      <td>150000.0</td>\n",
       "      <td>1058</td>\n",
       "    </tr>\n",
       "    <tr>\n",
       "      <th>Data Scientist</th>\n",
       "      <td>30000.0</td>\n",
       "      <td>960000.0</td>\n",
       "      <td>130000.0</td>\n",
       "      <td>4553</td>\n",
       "    </tr>\n",
       "    <tr>\n",
       "      <th>Software Engineer</th>\n",
       "      <td>48982.0</td>\n",
       "      <td>375000.0</td>\n",
       "      <td>130000.0</td>\n",
       "      <td>157</td>\n",
       "    </tr>\n",
       "    <tr>\n",
       "      <th>Data Engineer</th>\n",
       "      <td>23496.0</td>\n",
       "      <td>525000.0</td>\n",
       "      <td>125000.0</td>\n",
       "      <td>2915</td>\n",
       "    </tr>\n",
       "    <tr>\n",
       "      <th>Cloud Engineer</th>\n",
       "      <td>42000.0</td>\n",
       "      <td>221844.0</td>\n",
       "      <td>116100.0</td>\n",
       "      <td>20</td>\n",
       "    </tr>\n",
       "    <tr>\n",
       "      <th>Senior Data Analyst</th>\n",
       "      <td>35360.0</td>\n",
       "      <td>425000.0</td>\n",
       "      <td>110000.0</td>\n",
       "      <td>913</td>\n",
       "    </tr>\n",
       "    <tr>\n",
       "      <th>Business Analyst</th>\n",
       "      <td>35000.0</td>\n",
       "      <td>387460.0</td>\n",
       "      <td>90000.0</td>\n",
       "      <td>431</td>\n",
       "    </tr>\n",
       "    <tr>\n",
       "      <th>Data Analyst</th>\n",
       "      <td>25000.0</td>\n",
       "      <td>375000.0</td>\n",
       "      <td>90000.0</td>\n",
       "      <td>4350</td>\n",
       "    </tr>\n",
       "  </tbody>\n",
       "</table>\n",
       "</div>"
      ],
      "text/plain": [
       "                               min       max    median  count\n",
       "job_title_short                                              \n",
       "Senior Data Scientist      55000.0  475000.0  155000.0   1241\n",
       "Machine Learning Engineer  44408.5  315000.0  150000.0    128\n",
       "Senior Data Engineer       45000.0  375000.0  150000.0   1058\n",
       "Data Scientist             30000.0  960000.0  130000.0   4553\n",
       "Software Engineer          48982.0  375000.0  130000.0    157\n",
       "Data Engineer              23496.0  525000.0  125000.0   2915\n",
       "Cloud Engineer             42000.0  221844.0  116100.0     20\n",
       "Senior Data Analyst        35360.0  425000.0  110000.0    913\n",
       "Business Analyst           35000.0  387460.0   90000.0    431\n",
       "Data Analyst               25000.0  375000.0   90000.0   4350"
      ]
     },
     "execution_count": 26,
     "metadata": {},
     "output_type": "execute_result"
    }
   ],
   "source": [
    "# Grouping by job_title_short\n",
    "# Agg by 'min','max','median','count'\n",
    "# Order by median DSEC\n",
    "\n",
    "us_jobs.groupby('job_title_short')['salary_year_avg'].agg(['min','max','median','count']).sort_values(by='median', ascending=False)"
   ]
  },
  {
   "cell_type": "code",
   "execution_count": null,
   "metadata": {},
   "outputs": [],
   "source": []
  }
 ],
 "metadata": {
  "kernelspec": {
   "display_name": "learning_python",
   "language": "python",
   "name": "python3"
  },
  "language_info": {
   "codemirror_mode": {
    "name": "ipython",
    "version": 3
   },
   "file_extension": ".py",
   "mimetype": "text/x-python",
   "name": "python",
   "nbconvert_exporter": "python",
   "pygments_lexer": "ipython3",
   "version": "3.11.11"
  }
 },
 "nbformat": 4,
 "nbformat_minor": 2
}
