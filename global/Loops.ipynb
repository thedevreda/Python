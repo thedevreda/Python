{
 "cells": [
  {
   "cell_type": "code",
   "execution_count": 2,
   "metadata": {},
   "outputs": [],
   "source": [
    "job_list = ['Data Analyst', 'Business Data Analyst', 'Marketing Data Analyst', 'Financial Data Analyst', 'Healthcare Data Analyst', 'Sales Data Analyst', 'Operations Data Analyst', 'Risk Data Analyst', 'Product Data Analyst', 'Customer Data Analyst',  \n",
    "'Data Scientist', 'Machine Learning Engineer', 'AI Engineer', 'Deep Learning Engineer', 'NLP Engineer', 'Computer Vision Engineer', 'Data Science Consultant', 'Predictive Analytics Specialist', 'Fraud Detection Analyst', 'Research Scientist',  \n",
    "'Data Engineer', 'Big Data Engineer', 'ETL Developer', 'Database Engineer', 'Cloud Data Engineer', 'Data Pipeline Engineer', 'Hadoop Engineer', 'Data Architect', 'BI Engineer', 'Platform Engineer']\n"
   ]
  },
  {
   "cell_type": "markdown",
   "metadata": {},
   "source": [
    "Gathering only analysit jobs : "
   ]
  },
  {
   "cell_type": "code",
   "execution_count": 5,
   "metadata": {},
   "outputs": [
    {
     "data": {
      "text/plain": [
       "['Data Analyst',\n",
       " 'Business Data Analyst',\n",
       " 'Marketing Data Analyst',\n",
       " 'Financial Data Analyst',\n",
       " 'Healthcare Data Analyst',\n",
       " 'Sales Data Analyst',\n",
       " 'Operations Data Analyst',\n",
       " 'Risk Data Analyst',\n",
       " 'Product Data Analyst',\n",
       " 'Customer Data Analyst']"
      ]
     },
     "execution_count": 5,
     "metadata": {},
     "output_type": "execute_result"
    }
   ],
   "source": [
    "analyst_list = []\n",
    "for job in job_list:\n",
    "    if 'Data Analyst' in job:\n",
    "        analyst_list.append(job)\n",
    "analyst_list"
   ]
  },
  {
   "cell_type": "markdown",
   "metadata": {},
   "source": [
    "Numbers (int):"
   ]
  },
  {
   "cell_type": "code",
   "execution_count": 6,
   "metadata": {},
   "outputs": [
    {
     "name": "stdout",
     "output_type": "stream",
     "text": [
      "0\n",
      "1\n",
      "2\n",
      "3\n",
      "4\n",
      "5\n",
      "6\n",
      "7\n",
      "8\n",
      "9\n"
     ]
    }
   ],
   "source": [
    "numbers = [0,1,2,3,4,5,6,7,8,9]\n",
    "for number in numbers:\n",
    "    print(number)"
   ]
  },
  {
   "cell_type": "markdown",
   "metadata": {},
   "source": [
    "Strings(str):"
   ]
  },
  {
   "cell_type": "code",
   "execution_count": 7,
   "metadata": {},
   "outputs": [
    {
     "name": "stdout",
     "output_type": "stream",
     "text": [
      "P\n",
      "o\n",
      "w\n",
      "e\n",
      "r\n",
      "B\n",
      "i\n"
     ]
    }
   ],
   "source": [
    "word = 'PowerBi'\n",
    "for character in word:\n",
    "    print(character)"
   ]
  },
  {
   "cell_type": "code",
   "execution_count": 9,
   "metadata": {},
   "outputs": [
    {
     "name": "stdout",
     "output_type": "stream",
     "text": [
      "Reda has 4 years of experience\n",
      "Aziz has 19 years of experience\n"
     ]
    }
   ],
   "source": [
    "years_experience = {\n",
    "    'Reda' : 4,\n",
    "    'Amal' : 2,\n",
    "    'Aziz' : 19,\n",
    "    'Nouhila' : 0\n",
    "}\n",
    "for key, value in years_experience.items(): # in dict you can use items() to return key and value at once or you can use values() to return value or keys() to return key\n",
    "    if value > 2 :\n",
    "        print(key, 'has', value, 'years of experience')"
   ]
  },
  {
   "cell_type": "markdown",
   "metadata": {},
   "source": [
    "List Comprehension: \n"
   ]
  },
  {
   "cell_type": "code",
   "execution_count": 12,
   "metadata": {},
   "outputs": [
    {
     "data": {
      "text/plain": [
       "[0.0, 0.5, 1.0, 1.5, 2.0, 2.5, 3.0, 3.5, 4.0, 4.5]"
      ]
     },
     "execution_count": 12,
     "metadata": {},
     "output_type": "execute_result"
    }
   ],
   "source": [
    "numbers = [x/2 for x in range(10)] #again you can use Dict,Sets,Tuples,Lists and also Str\n",
    "numbers"
   ]
  },
  {
   "cell_type": "code",
   "execution_count": 14,
   "metadata": {},
   "outputs": [
    {
     "data": {
      "text/plain": [
       "['P', 'Y', 'T', 'H', 'O', 'N']"
      ]
     },
     "execution_count": 14,
     "metadata": {},
     "output_type": "execute_result"
    }
   ],
   "source": [
    "word = [x for x in 'PYTHON']\n",
    "word"
   ]
  },
  {
   "cell_type": "markdown",
   "metadata": {},
   "source": [
    "Example: "
   ]
  },
  {
   "cell_type": "code",
   "execution_count": 15,
   "metadata": {},
   "outputs": [
    {
     "data": {
      "text/plain": [
       "['Data Analyst',\n",
       " 'Business Data Analyst',\n",
       " 'Marketing Data Analyst',\n",
       " 'Financial Data Analyst',\n",
       " 'Healthcare Data Analyst',\n",
       " 'Sales Data Analyst',\n",
       " 'Operations Data Analyst',\n",
       " 'Risk Data Analyst',\n",
       " 'Product Data Analyst',\n",
       " 'Customer Data Analyst']"
      ]
     },
     "execution_count": 15,
     "metadata": {},
     "output_type": "execute_result"
    }
   ],
   "source": [
    "# analyst_list = []\n",
    "# for job in job_list:\n",
    "#     if 'Data Analyst' in job:\n",
    "#         analyst_list.append(job)\n",
    "# analyst_list\n",
    "\n",
    "analyst_list = [job for job in job_list if  'Data Analyst' in job]\n",
    "analyst_list"
   ]
  },
  {
   "cell_type": "code",
   "execution_count": null,
   "metadata": {},
   "outputs": [],
   "source": [
    "    "
   ]
  }
 ],
 "metadata": {
  "kernelspec": {
   "display_name": "learning_python",
   "language": "python",
   "name": "python3"
  },
  "language_info": {
   "codemirror_mode": {
    "name": "ipython",
    "version": 3
   },
   "file_extension": ".py",
   "mimetype": "text/x-python",
   "name": "python",
   "nbconvert_exporter": "python",
   "pygments_lexer": "ipython3",
   "version": "3.11.11"
  }
 },
 "nbformat": 4,
 "nbformat_minor": 2
}
