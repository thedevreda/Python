{
 "cells": [
  {
   "cell_type": "code",
   "execution_count": 8,
   "metadata": {},
   "outputs": [],
   "source": [
    "job_title = \"Data Analyst\"\n",
    "company_lookingfor = \"Data Analys\"\n",
    "years_experience = 1\n",
    "skill = \"Python\""
   ]
  },
  {
   "cell_type": "code",
   "execution_count": 9,
   "metadata": {},
   "outputs": [
    {
     "name": "stdout",
     "output_type": "stream",
     "text": [
      "Nothing Found!\n"
     ]
    }
   ],
   "source": [
    "if job_title == company_lookingfor:\n",
    "    print(\"Matched Job!\")\n",
    "elif years_experience > 2:\n",
    "    print(\"Matched Years!\")\n",
    "else:\n",
    "     print(\"Nothing Found!\")"
   ]
  }
 ],
 "metadata": {
  "kernelspec": {
   "display_name": "learning_python",
   "language": "python",
   "name": "python3"
  },
  "language_info": {
   "codemirror_mode": {
    "name": "ipython",
    "version": 3
   },
   "file_extension": ".py",
   "mimetype": "text/x-python",
   "name": "python",
   "nbconvert_exporter": "python",
   "pygments_lexer": "ipython3",
   "version": "3.11.11"
  }
 },
 "nbformat": 4,
 "nbformat_minor": 2
}
